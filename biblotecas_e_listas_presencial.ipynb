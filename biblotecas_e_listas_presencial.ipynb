{
  "nbformat": 4,
  "nbformat_minor": 0,
  "metadata": {
    "colab": {
      "provenance": [],
      "authorship_tag": "ABX9TyMsZAG5pe7KWRx56MDEoPCt",
      "include_colab_link": true
    },
    "kernelspec": {
      "name": "python3",
      "display_name": "Python 3"
    },
    "language_info": {
      "name": "python"
    }
  },
  "cells": [
    {
      "cell_type": "markdown",
      "metadata": {
        "id": "view-in-github",
        "colab_type": "text"
      },
      "source": [
        "<a href=\"https://colab.research.google.com/github/AndNasci312/Faculdade_Ciencia_de_dado_3SEM/blob/main/biblotecas_e_listas_presencial.ipynb\" target=\"_parent\"><img src=\"https://colab.research.google.com/assets/colab-badge.svg\" alt=\"Open In Colab\"/></a>"
      ]
    },
    {
      "cell_type": "markdown",
      "source": [
        "LISTAS são funções que de forma simples podem armazenar multiplos dados\n"
      ],
      "metadata": {
        "id": "WoLUWP56aiDA"
      }
    },
    {
      "cell_type": "code",
      "execution_count": null,
      "metadata": {
        "colab": {
          "base_uri": "https://localhost:8080/"
        },
        "id": "3GbzeRD9R-8U",
        "outputId": "98a2541a-539a-48cb-e172-8dbf053b0d2c"
      },
      "outputs": [
        {
          "output_type": "stream",
          "name": "stdout",
          "text": [
            "<class 'list'>\n",
            "['maça', 'banana', 'cereja']\n",
            "o tipo da variável frutas é <class 'list'>\n",
            "e o seu conteúdo é ['maça', 'banana', 'cereja']\n",
            "--------------------------------------\n",
            "maça\n",
            "banana\n",
            "cereja\n",
            "--------------------------------------\n",
            "[3]\n",
            "--------------------------------------\n",
            "cereja\n",
            "cereja\n",
            "--------------------------------------\n",
            "[4, 5, 6, 7]\n",
            "[1, 2, 3, 4, 5, 6, 7]\n",
            "[4, 5, 6, 7, 8, 9, 10]\n",
            "--------------------------------------\n",
            "['jose', 'marcelo', 'luan', 'thiago']\n",
            "['jose', 'marcelo', 'bruno', 'luan', 'thiago']\n",
            "--------------------------------------\n",
            "['jose', 'marcelo', 'luan', 'thiago']\n",
            "--------------------------------------\n",
            "o jose está na lista!\n",
            "--------------------------------------\n",
            "jose\n",
            "marcelo\n",
            "luan\n",
            "thiago\n"
          ]
        }
      ],
      "source": [
        "from typing_extensions import final\n",
        "\n",
        "# exemplo de uma LISTA e mostrando o seu tipo\n",
        "frutas = ['maça', 'banana', 'cereja']\n",
        "print(type(frutas))\n",
        "print(frutas)\n",
        "print(f'o tipo da variável frutas é {type(frutas)}')\n",
        "print(f'e o seu conteúdo é {frutas}')\n",
        "print('--------------------------------------')\n",
        "\n",
        "# mostrando itens da lista através do seu indice\n",
        "print(frutas[0])\n",
        "print(frutas[1])\n",
        "print(frutas[2])\n",
        "print('--------------------------------------')\n",
        "\n",
        "# contar a quantidade de itens de uma lista\n",
        "print([len(frutas)])\n",
        "print('--------------------------------------')\n",
        "\n",
        "# capturando o ultimo item\n",
        "print(frutas[len(frutas)-1])\n",
        "print(frutas[-1])\n",
        "print('--------------------------------------')\n",
        "\n",
        "# selecionando uma quantidade de itens por INDICE\n",
        "lista_numeros = [1,2,3,4,5,6,7,8,9,10]\n",
        "print(lista_numeros[3:7])\n",
        "print(lista_numeros[:7]) # pega do primeiro até o 7\n",
        "print(lista_numeros[3:]) # pega do terceiro até o ultimo\n",
        "\n",
        "print('--------------------------------------')\n",
        "# inserindo dados em uma lista \n",
        "lista_nomes = []\n",
        "\n",
        "# APPEND é a função aonde é adcionado um dado em uma lista declarada, essa que\n",
        "# nesse exemplo está declarada como \"lista_nomes\"\n",
        "\n",
        "lista_nomes.append(\"jose\")\n",
        "lista_nomes.append(\"marcelo\")\n",
        "lista_nomes.append(\"luan\")\n",
        "lista_nomes.append(\"thiago\")\n",
        "\n",
        "print(lista_nomes)\n",
        "\n",
        "# já o INSERT adciona itens em uma lista já com dados cadastrados, sempre \n",
        "# informando o seu indice junto com o dado que irá ser cadastrado\n",
        "\n",
        "lista_nomes.insert(2, \"bruno\")\n",
        "print(lista_nomes)\n",
        "print('--------------------------------------')\n",
        "\n",
        "# e o REMOVE remove um elemento da lista \n",
        "lista_nomes.remove(\"bruno\")\n",
        "print(lista_nomes)\n",
        "\n",
        "print('--------------------------------------')\n",
        "\n",
        "# como saber se um item existe em uma lista?\n",
        "# a partir de uma condição, dentro da variavel das listas\n",
        "# if 'dado' in 'variavel_da_lista'\n",
        "# print(\"dado confirmado\")\n",
        "if \"jose\" in lista_nomes:\n",
        "  print(\"o jose está na lista!\")\n",
        "\n",
        "print('--------------------------------------')\n",
        "# ou também, listar todos os itens de uma lista de uma só vez com FOR\n",
        "\n",
        "for indice in lista_nomes:\n",
        "  print(indice)"
      ]
    },
    {
      "cell_type": "markdown",
      "source": [
        "exercicio: escreva um algoritimo que caucula a idade média de uma lista de \n",
        "pessoas que usam um produto X"
      ],
      "metadata": {
        "id": "hVmENdg9eY6A"
      }
    },
    {
      "cell_type": "code",
      "source": [
        "lista_de_idades = [10,13,15,23,25,28,32,35,39,45,55,60,75]\n",
        "\n",
        "tamanho = len(lista_de_idades)\n",
        "\n",
        "soma = 0\n",
        "# for \"variavel_usada_em_for\" in \"variavel_da_lista\"\n",
        "for i in lista_de_idades:\n",
        "    soma = soma + i\n",
        "\n",
        "print(round(soma / tamanho,0))"
      ],
      "metadata": {
        "colab": {
          "base_uri": "https://localhost:8080/"
        },
        "id": "j8UMpZRBZ6EO",
        "outputId": "3ad5d72e-4b3f-41bc-de82-f5ebcea6fba4"
      },
      "execution_count": null,
      "outputs": [
        {
          "output_type": "stream",
          "name": "stdout",
          "text": [
            "35.0\n"
          ]
        }
      ]
    },
    {
      "cell_type": "markdown",
      "source": [
        "TUPLAS\n"
      ],
      "metadata": {
        "id": "WVgs6TQ_mcQA"
      }
    },
    {
      "cell_type": "code",
      "source": [
        "# uma tupla simples\n",
        "etupla = (1,2,3)\n",
        "print(type(etupla))\n",
        "\n",
        "#convertendo uma tupla para lista\n",
        "\n",
        "tupla = (\"a\", \"b\",\"c\")\n",
        "lista = list(tupla)\n",
        "lista.append(\"d\")\n",
        "tupla = tuple(lista)\n",
        "print(tupla)\n",
        "\n",
        "tupla = (\"a\", \"b\",\"c\")\n",
        "lista = list(tupla)\n",
        "lista.remove(\"b\")\n",
        "tupla = tuple(lista)\n",
        "print(tupla)\n",
        "\n",
        "tupla = (\"a\", \"b\",\"c\")\n",
        "lista = list(tupla)\n",
        "lista.append(\"d\")\n",
        "tupla = tuple(lista)\n",
        "print(tupla)"
      ],
      "metadata": {
        "colab": {
          "base_uri": "https://localhost:8080/"
        },
        "id": "lLWujPo9nOD2",
        "outputId": "cdb03045-6e65-48ca-f83f-ab425dca2ec5"
      },
      "execution_count": null,
      "outputs": [
        {
          "output_type": "stream",
          "name": "stdout",
          "text": [
            "<class 'tuple'>\n",
            "('a', 'b', 'c', 'd')\n"
          ]
        }
      ]
    },
    {
      "cell_type": "markdown",
      "source": [
        "exercicio: escreva um algoritimo no qual terá que receber dados imutáveis\n",
        "e que irá receber dados em uma determinada ordem:\n",
        "\n",
        "somente os meses pares: (jan,fev,mar,abr,mai,jun,jul,ago,set,out,nov,dez)"
      ],
      "metadata": {
        "id": "IVAio1LtoVhI"
      }
    },
    {
      "cell_type": "code",
      "source": [
        "meses = (\"jan\",\"fev\",\"mar\",\"abr\",\"mai\",\"jun\",\"jul\")\n",
        "\n",
        "for mes in range(1, len(meses), 2):\n",
        "  print(meses[mes])\n",
        "\n",
        "  "
      ],
      "metadata": {
        "colab": {
          "base_uri": "https://localhost:8080/"
        },
        "id": "CSK_WS27o52Z",
        "outputId": "f8556c22-6ae0-4784-d05d-c863d3483794"
      },
      "execution_count": null,
      "outputs": [
        {
          "output_type": "stream",
          "name": "stdout",
          "text": [
            "fev\n",
            "abr\n",
            "jun\n"
          ]
        }
      ]
    },
    {
      "cell_type": "markdown",
      "source": [],
      "metadata": {
        "id": "lR_TwduOo5hW"
      }
    }
  ]
}