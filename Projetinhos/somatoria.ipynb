{
 "cells": [
  {
   "cell_type": "markdown",
   "id": "141992f2-7669-4423-bc1b-60a02fc74b19",
   "metadata": {},
   "source": [
    "### Somatória"
   ]
  },
  {
   "cell_type": "markdown",
   "id": "d1552c2b-6ce1-4fc3-b471-8b638d51ec24",
   "metadata": {},
   "source": [
    "a somatória consiste em um sinal que exprime uma adição de forma condensada, a somatória permite a identificação da posição de uma variável e do seu valor relativo, esse método é muito usado em estatistica, mais precisamente em amostragem de dados "
   ]
  },
  {
   "cell_type": "markdown",
   "id": "20706105-6f26-415d-9b3c-e8979058d411",
   "metadata": {},
   "source": [
    "FORMULA:\n",
    "    \n",
    "<img src='https://algol.dev/wp-content/uploads/2020/10/02-1.png'>"
   ]
  },
  {
   "cell_type": "markdown",
   "id": "5cc8c50e-7428-4f82-af44-70d9dc8f791b",
   "metadata": {},
   "source": [
    "### REPRESENTAÇÃO DE UMA SOMATÓRIA EM PYTHON"
   ]
  },
  {
   "cell_type": "code",
   "execution_count": 10,
   "id": "ebecb3aa-54f6-4715-b019-15d7b054fd80",
   "metadata": {},
   "outputs": [
    {
     "name": "stdout",
     "output_type": "stream",
     "text": [
      "Soma: 117\n"
     ]
    }
   ],
   "source": [
    "# PARA EXECUTAR O ALGORITIMO, É \n",
    "# NECESSÁRIO USAR O MÉTODO FOR\n",
    "\n",
    "# Lista de números\n",
    "numeros = [1, 6, 4, 8, 98]\n",
    "\n",
    "# Variável para armazenar a soma\n",
    "soma = 0\n",
    "\n",
    "# Loop for para somar os números\n",
    "for numero in numeros:\n",
    "    soma += numero\n",
    "\n",
    "# Imprimir o resultado\n",
    "print(\"Soma:\", soma)\n"
   ]
  }
 ],
 "metadata": {
  "kernelspec": {
   "display_name": "Python 3 (ipykernel)",
   "language": "python",
   "name": "python3"
  },
  "language_info": {
   "codemirror_mode": {
    "name": "ipython",
    "version": 3
   },
   "file_extension": ".py",
   "mimetype": "text/x-python",
   "name": "python",
   "nbconvert_exporter": "python",
   "pygments_lexer": "ipython3",
   "version": "3.10.9"
  }
 },
 "nbformat": 4,
 "nbformat_minor": 5
}
