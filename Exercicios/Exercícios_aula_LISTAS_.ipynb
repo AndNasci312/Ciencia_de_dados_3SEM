{
  "nbformat": 4,
  "nbformat_minor": 0,
  "metadata": {
    "colab": {
      "provenance": []
    },
    "kernelspec": {
      "name": "python3",
      "display_name": "Python 3"
    },
    "language_info": {
      "name": "python"
    }
  },
  "cells": [
    {
      "cell_type": "markdown",
      "source": [
        "### Criando lista\n",
        "\n"
      ],
      "metadata": {
        "id": "pUkFcB3VURmS"
      }
    },
    {
      "cell_type": "code",
      "source": [
        "#         1         2         3\n",
        "lista = [\"maça\", \"banana\", \"abacate\"]\n",
        "#          0        1         2\n",
        "print(lista)\n",
        "print(type(lista))"
      ],
      "metadata": {
        "colab": {
          "base_uri": "https://localhost:8080/"
        },
        "id": "EnlOwahwUa1B",
        "outputId": "08be1de9-52c5-408c-911c-816ce02fe16b"
      },
      "execution_count": null,
      "outputs": [
        {
          "output_type": "stream",
          "name": "stdout",
          "text": [
            "['maça', 'banana', 'abacate']\n",
            "<class 'list'>\n"
          ]
        }
      ]
    },
    {
      "cell_type": "markdown",
      "source": [
        "### Pegando itens de uma lista"
      ],
      "metadata": {
        "id": "v_u9LoEJV1vD"
      }
    },
    {
      "cell_type": "code",
      "source": [
        "print(lista[0])\n",
        "print(len(lista))"
      ],
      "metadata": {
        "colab": {
          "base_uri": "https://localhost:8080/",
          "height": 182
        },
        "id": "9B4nX2vSU3eR",
        "outputId": "abb9e124-af8a-4dea-c5ba-7ed465273bbc"
      },
      "execution_count": null,
      "outputs": [
        {
          "output_type": "error",
          "ename": "IndexError",
          "evalue": "ignored",
          "traceback": [
            "\u001b[0;31m---------------------------------------------------------------------------\u001b[0m",
            "\u001b[0;31mIndexError\u001b[0m                                Traceback (most recent call last)",
            "\u001b[0;32m<ipython-input-8-a0fb097495a9>\u001b[0m in \u001b[0;36m<module>\u001b[0;34m\u001b[0m\n\u001b[0;32m----> 1\u001b[0;31m \u001b[0mprint\u001b[0m\u001b[0;34m(\u001b[0m\u001b[0mlista\u001b[0m\u001b[0;34m[\u001b[0m\u001b[0;36m3\u001b[0m\u001b[0;34m]\u001b[0m\u001b[0;34m)\u001b[0m\u001b[0;34m\u001b[0m\u001b[0;34m\u001b[0m\u001b[0m\n\u001b[0m\u001b[1;32m      2\u001b[0m \u001b[0mprint\u001b[0m\u001b[0;34m(\u001b[0m\u001b[0mlen\u001b[0m\u001b[0;34m(\u001b[0m\u001b[0mlista\u001b[0m\u001b[0;34m)\u001b[0m\u001b[0;34m)\u001b[0m\u001b[0;34m\u001b[0m\u001b[0;34m\u001b[0m\u001b[0m\n",
            "\u001b[0;31mIndexError\u001b[0m: list index out of range"
          ]
        }
      ]
    },
    {
      "cell_type": "markdown",
      "source": [
        "### capturando o último item"
      ],
      "metadata": {
        "id": "r032BERSWo16"
      }
    },
    {
      "cell_type": "code",
      "source": [
        "lista = [\"maça\", \"banana\", \"abacate\"]\n",
        "print(lista[len(lista)-1])\n",
        "print(lista[-1])"
      ],
      "metadata": {
        "colab": {
          "base_uri": "https://localhost:8080/"
        },
        "id": "6fFEVo1sVufh",
        "outputId": "64a80f1f-c4dd-400c-9b03-e0d27e72d2d9"
      },
      "execution_count": null,
      "outputs": [
        {
          "output_type": "stream",
          "name": "stdout",
          "text": [
            "abacate\n",
            "abacate\n"
          ]
        }
      ]
    },
    {
      "cell_type": "code",
      "source": [
        "lista_numeros = [1,2,3,4,5,6,7,8,9,10]"
      ],
      "metadata": {
        "id": "jyBHD0xlWfTa"
      },
      "execution_count": null,
      "outputs": []
    },
    {
      "cell_type": "code",
      "source": [
        "print(lista_numeros[3:7])\n",
        "print(lista_numeros[:7]) # pega do primeiro índice até o 7\n",
        "print(lista_numeros[3:]) # pega do terceiro índice até o último"
      ],
      "metadata": {
        "colab": {
          "base_uri": "https://localhost:8080/"
        },
        "id": "_qX31vP8XuHM",
        "outputId": "9e0e28c9-94f8-41e7-b4fa-5c08d24ce3db"
      },
      "execution_count": null,
      "outputs": [
        {
          "output_type": "stream",
          "name": "stdout",
          "text": [
            "[4, 5, 6, 7]\n",
            "[1, 2, 3, 4, 5, 6, 7]\n",
            "[4, 5, 6, 7, 8, 9, 10]\n"
          ]
        }
      ]
    },
    {
      "cell_type": "code",
      "source": [
        "lista_nomes = []"
      ],
      "metadata": {
        "id": "l7dJFBVOX8uW"
      },
      "execution_count": null,
      "outputs": []
    },
    {
      "cell_type": "code",
      "source": [],
      "metadata": {
        "id": "E5_lZG6lcPnC"
      },
      "execution_count": null,
      "outputs": []
    },
    {
      "cell_type": "code",
      "source": [
        "lista_nomes.clear()\n",
        "lista_nomes.append(\"José\")\n",
        "lista_nomes.append(\"José\")\n",
        "lista_nomes.append(\"José\")\n",
        "lista_nomes.append(\"Maria\")\n",
        "lista_nomes.append(\"Rose\")\n",
        "lista_nomes.append(\"Raissa\")\n",
        "lista_nomes.append(\"Thiago\")"
      ],
      "metadata": {
        "id": "eF0G_WVDZYQb"
      },
      "execution_count": null,
      "outputs": []
    },
    {
      "cell_type": "code",
      "source": [
        "print(lista_nomes)"
      ],
      "metadata": {
        "colab": {
          "base_uri": "https://localhost:8080/"
        },
        "id": "r8wf6HahZgtq",
        "outputId": "f025a019-e440-4849-99ab-a1c57a17d7ef"
      },
      "execution_count": null,
      "outputs": [
        {
          "output_type": "stream",
          "name": "stdout",
          "text": [
            "['José', 'José', 'José', 'Maria', 'Rose', 'Raissa', 'Thiago']\n"
          ]
        }
      ]
    },
    {
      "cell_type": "code",
      "source": [
        "lista_nomes.insert(2,\"João\")\n",
        "print(lista_nomes)\n",
        "#['José', 'Maria', 'João', 'Rose', 'Raissa', 'Thiago']"
      ],
      "metadata": {
        "colab": {
          "base_uri": "https://localhost:8080/"
        },
        "id": "j2ZkqSiaZ5Ja",
        "outputId": "75302be5-74d6-4f8b-ddfe-044e8d0c5354"
      },
      "execution_count": null,
      "outputs": [
        {
          "output_type": "stream",
          "name": "stdout",
          "text": [
            "['José', 'José', 'João', 'José', 'Maria', 'Rose', 'Raissa', 'Thiago']\n"
          ]
        }
      ]
    },
    {
      "cell_type": "code",
      "source": [
        "lista_nomes.remove(\"José\")\n",
        "print(lista_nomes)"
      ],
      "metadata": {
        "colab": {
          "base_uri": "https://localhost:8080/"
        },
        "id": "2fmiK9W0a9dz",
        "outputId": "a165cee5-4bbb-4d92-bdc1-76c0a2ac8686"
      },
      "execution_count": null,
      "outputs": [
        {
          "output_type": "stream",
          "name": "stdout",
          "text": [
            "['José', 'João', 'José', 'Maria', 'Rose', 'Raissa', 'Thiago']\n"
          ]
        }
      ]
    },
    {
      "cell_type": "code",
      "source": [
        "if \"Thiago\" in lista_nomes:\n",
        "  print('Thiago está na lista')"
      ],
      "metadata": {
        "colab": {
          "base_uri": "https://localhost:8080/"
        },
        "id": "LW_dFNdmcDSz",
        "outputId": "5de7edfd-a992-41c7-94f2-fc2768686147"
      },
      "execution_count": null,
      "outputs": [
        {
          "output_type": "stream",
          "name": "stdout",
          "text": [
            "Thiago está na lista\n"
          ]
        }
      ]
    },
    {
      "cell_type": "code",
      "source": [
        "for indice in lista_nomes:\n",
        "  print(indice)"
      ],
      "metadata": {
        "colab": {
          "base_uri": "https://localhost:8080/"
        },
        "id": "KCc11UPHc9v7",
        "outputId": "25101270-1030-4f15-c383-f214f6585a22"
      },
      "execution_count": null,
      "outputs": [
        {
          "output_type": "stream",
          "name": "stdout",
          "text": [
            "José\n",
            "João\n",
            "José\n",
            "Maria\n",
            "Rose\n",
            "Raissa\n",
            "Thiago\n"
          ]
        }
      ]
    },
    {
      "cell_type": "markdown",
      "source": [
        "## Escreva um algoritmo que calcula a idade média de uma lista de pessoas que usam um produto x\n",
        "\n",
        "#$ (∑_{i=1}^{n} Idade[i]) / ||Idade|| $\n"
      ],
      "metadata": {
        "id": "1zVhUKsCep57"
      }
    },
    {
      "cell_type": "code",
      "source": [
        "idades = [28,26,32,52,41,23,25,32,30,20]\n",
        "tamanho_colecao = len(idades)\n",
        "soma = 0\n",
        "for idade in idades:\n",
        "  soma = soma + idade\n",
        "print(round(soma / tamanho_colecao,0))\n",
        "\n"
      ],
      "metadata": {
        "colab": {
          "base_uri": "https://localhost:8080/"
        },
        "id": "cx26KiLPdPNL",
        "outputId": "d32c49ed-466d-4ef7-c83f-7e21d0f508e8"
      },
      "execution_count": null,
      "outputs": [
        {
          "output_type": "stream",
          "name": "stdout",
          "text": [
            "31.0\n"
          ]
        }
      ]
    },
    {
      "cell_type": "markdown",
      "source": [
        "# Apresente todos os meses pares presente no ano\n",
        "\n",
        "#$∑_{i=1}^{n/2} {meses[i*2]}$"
      ],
      "metadata": {
        "id": "Qg1tbOtooWjU"
      }
    },
    {
      "cell_type": "code",
      "source": [
        "from re import M\n",
        "meses = ('Jan', 'Fev', 'Mar', 'Abr', 'Mai', 'Jun', 'Jul', 'Ago', 'Set', 'Out', 'Nov', 'Dez')\n",
        "\n",
        "for mes in range(1, len(meses),2):\n",
        "  print(meses[mes])\n",
        "print(\"\\n\")\n",
        "for mes in range(1, int(len(meses)/2)+1):\n",
        "  print(meses[mes])\n",
        "  mes *= 2"
      ],
      "metadata": {
        "colab": {
          "base_uri": "https://localhost:8080/"
        },
        "id": "2zPk1Q18h3Z8",
        "outputId": "f3dc5c48-138e-43a8-8c00-f3c1a7842a1b"
      },
      "execution_count": null,
      "outputs": [
        {
          "output_type": "stream",
          "name": "stdout",
          "text": [
            "Fev\n",
            "Abr\n",
            "Jun\n",
            "Ago\n",
            "Out\n",
            "Dez\n",
            "\n",
            "\n",
            "Fev\n",
            "Mar\n",
            "Abr\n",
            "Mai\n",
            "Jun\n",
            "Jul\n"
          ]
        }
      ]
    },
    {
      "cell_type": "code",
      "source": [
        "3600 + 1300 + 150 + 3000"
      ],
      "metadata": {
        "colab": {
          "base_uri": "https://localhost:8080/"
        },
        "id": "jTMO0sdxmkuC",
        "outputId": "0e97e2b1-3eef-41e0-88d9-409415220fd4"
      },
      "execution_count": null,
      "outputs": [
        {
          "output_type": "execute_result",
          "data": {
            "text/plain": [
              "8050"
            ]
          },
          "metadata": {},
          "execution_count": 15
        }
      ]
    },
    {
      "cell_type": "code",
      "source": [],
      "metadata": {
        "id": "YlSD8yZjnrJE"
      },
      "execution_count": null,
      "outputs": []
    }
  ]
}